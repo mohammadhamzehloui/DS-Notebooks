{
 "cells": [
  {
   "cell_type": "markdown",
   "metadata": {},
   "source": [
    "#### Since I do not have access to the customer subscriptions, I just created a dummy one."
   ]
  },
  {
   "cell_type": "code",
   "execution_count": 1,
   "metadata": {},
   "outputs": [],
   "source": [
    "import numpy as np\n",
    "import pandas as pd\n",
    "from datetime import datetime as dt\n",
    "from datetime import timedelta\n",
    "import matplotlib.pyplot as plt\n",
    "%matplotlib inline\n",
    "import seaborn as sns\n",
    "import missingno as msno\n",
    "from scipy import stats\n",
    "plt.style.use('fivethirtyeight') \n",
    "\n",
    "#Reading only the dates and discarding the time \n",
    "dateparse = lambda x: pd.datetime.strptime(x[:10],'%Y-%m-%d')\n",
    "customer_demographics = pd.read_csv(\"https://assets.datacamp.com/production/repositories/1646/datasets/01054025eb094ac1086edf8d206b313b84d911c5/user_demographics_paywall.csv\" \\\n",
    "                                 ,parse_dates=['reg_date'])\n",
    "#                                   ,parse_dates=['reg_date'], date_parser=dateparse)\n",
    "\n",
    "#Creating the customer subscription data-set\n",
    "def random_dates(start, end, n=10):\n",
    "\n",
    "    start_u = start.value//10**9\n",
    "    end_u = end.value//10**9\n",
    "\n",
    "    return pd.to_datetime(np.random.randint(start_u, end_u, n), unit='s')\n",
    "\n",
    "start = pd.to_datetime(customer_demographics.reg_date.min())\n",
    "end = pd.to_datetime(customer_demographics.reg_date.max())\n",
    "\n",
    "customer_subscriptions = pd.DataFrame({\n",
    " \"uid\" : customer_demographics.uid,\n",
    " \"lapse_date\":random_dates(start,end,customer_demographics.shape[0]),\n",
    " \"subscription_date\":random_dates(start + timedelta(2),end, customer_demographics.shape[0]),\n",
    " \"price\":list(np.random.randint(400,500,customer_demographics.shape[0]))\n",
    " })\n",
    "\n",
    "\n",
    "#creating random null values\n",
    "index = customer_subscriptions.sample(frac=0.05, random_state=1).index\n",
    "for i in index:\n",
    "    customer_subscriptions.iloc[index.get_loc(i),np.random.randint(1,4)] = np.nan\n",
    "\n",
    "#Merging the two datasets\n",
    "demo_agg = customer_demographics.merge(customer_subscriptions, how='inner', on=['uid'])\n",
    "demo_agg.set_index('uid',inplace =True)\n"
   ]
  },
  {
   "cell_type": "markdown",
   "metadata": {},
   "source": [
    "## EDA"
   ]
  },
  {
   "cell_type": "code",
   "execution_count": 2,
   "metadata": {},
   "outputs": [
    {
     "name": "stdout",
     "output_type": "stream",
     "text": [
      "<class 'pandas.core.frame.DataFrame'>\n",
      "Int64Index: 1100 entries, 52774929 to 32942475\n",
      "Data columns (total 8 columns):\n",
      "reg_date             1100 non-null datetime64[ns, UTC]\n",
      "device               1100 non-null object\n",
      "gender               1100 non-null object\n",
      "country              1100 non-null object\n",
      "age                  1100 non-null int64\n",
      "lapse_date           1085 non-null datetime64[ns]\n",
      "subscription_date    1079 non-null datetime64[ns]\n",
      "price                1081 non-null float64\n",
      "dtypes: datetime64[ns, UTC](1), datetime64[ns](2), float64(1), int64(1), object(3)\n",
      "memory usage: 77.3+ KB\n"
     ]
    },
    {
     "data": {
      "text/html": [
       "<div>\n",
       "<style scoped>\n",
       "    .dataframe tbody tr th:only-of-type {\n",
       "        vertical-align: middle;\n",
       "    }\n",
       "\n",
       "    .dataframe tbody tr th {\n",
       "        vertical-align: top;\n",
       "    }\n",
       "\n",
       "    .dataframe thead th {\n",
       "        text-align: right;\n",
       "    }\n",
       "</style>\n",
       "<table border=\"1\" class=\"dataframe\">\n",
       "  <thead>\n",
       "    <tr style=\"text-align: right;\">\n",
       "      <th></th>\n",
       "      <th>age</th>\n",
       "      <th>price</th>\n",
       "    </tr>\n",
       "  </thead>\n",
       "  <tbody>\n",
       "    <tr>\n",
       "      <td>count</td>\n",
       "      <td>1100.000000</td>\n",
       "      <td>1081.000000</td>\n",
       "    </tr>\n",
       "    <tr>\n",
       "      <td>mean</td>\n",
       "      <td>24.798182</td>\n",
       "      <td>448.392229</td>\n",
       "    </tr>\n",
       "    <tr>\n",
       "      <td>std</td>\n",
       "      <td>10.689479</td>\n",
       "      <td>28.970318</td>\n",
       "    </tr>\n",
       "    <tr>\n",
       "      <td>min</td>\n",
       "      <td>15.000000</td>\n",
       "      <td>400.000000</td>\n",
       "    </tr>\n",
       "    <tr>\n",
       "      <td>25%</td>\n",
       "      <td>17.000000</td>\n",
       "      <td>424.000000</td>\n",
       "    </tr>\n",
       "    <tr>\n",
       "      <td>50%</td>\n",
       "      <td>21.000000</td>\n",
       "      <td>447.000000</td>\n",
       "    </tr>\n",
       "    <tr>\n",
       "      <td>75%</td>\n",
       "      <td>29.000000</td>\n",
       "      <td>474.000000</td>\n",
       "    </tr>\n",
       "    <tr>\n",
       "      <td>max</td>\n",
       "      <td>85.000000</td>\n",
       "      <td>499.000000</td>\n",
       "    </tr>\n",
       "  </tbody>\n",
       "</table>\n",
       "</div>"
      ],
      "text/plain": [
       "               age        price\n",
       "count  1100.000000  1081.000000\n",
       "mean     24.798182   448.392229\n",
       "std      10.689479    28.970318\n",
       "min      15.000000   400.000000\n",
       "25%      17.000000   424.000000\n",
       "50%      21.000000   447.000000\n",
       "75%      29.000000   474.000000\n",
       "max      85.000000   499.000000"
      ]
     },
     "execution_count": 2,
     "metadata": {},
     "output_type": "execute_result"
    }
   ],
   "source": [
    "demo_agg.info()\n",
    "demo_agg.describe()"
   ]
  },
  {
   "cell_type": "code",
   "execution_count": 3,
   "metadata": {},
   "outputs": [
    {
     "data": {
      "text/plain": [
       "reg_date              0\n",
       "device                0\n",
       "gender                0\n",
       "country               0\n",
       "age                   0\n",
       "lapse_date           15\n",
       "subscription_date    21\n",
       "price                19\n",
       "dtype: int64"
      ]
     },
     "execution_count": 3,
     "metadata": {},
     "output_type": "execute_result"
    }
   ],
   "source": [
    "demo_agg.isnull().sum()"
   ]
  },
  {
   "cell_type": "code",
   "execution_count": 4,
   "metadata": {
    "scrolled": true
   },
   "outputs": [
    {
     "data": {
      "text/html": [
       "<div>\n",
       "<style scoped>\n",
       "    .dataframe tbody tr th:only-of-type {\n",
       "        vertical-align: middle;\n",
       "    }\n",
       "\n",
       "    .dataframe tbody tr th {\n",
       "        vertical-align: top;\n",
       "    }\n",
       "\n",
       "    .dataframe thead th {\n",
       "        text-align: right;\n",
       "    }\n",
       "</style>\n",
       "<table border=\"1\" class=\"dataframe\">\n",
       "  <thead>\n",
       "    <tr style=\"text-align: right;\">\n",
       "      <th></th>\n",
       "      <th>reg_date</th>\n",
       "      <th>device</th>\n",
       "      <th>gender</th>\n",
       "      <th>country</th>\n",
       "      <th>age</th>\n",
       "      <th>lapse_date</th>\n",
       "      <th>subscription_date</th>\n",
       "      <th>price</th>\n",
       "    </tr>\n",
       "    <tr>\n",
       "      <th>uid</th>\n",
       "      <th></th>\n",
       "      <th></th>\n",
       "      <th></th>\n",
       "      <th></th>\n",
       "      <th></th>\n",
       "      <th></th>\n",
       "      <th></th>\n",
       "      <th></th>\n",
       "    </tr>\n",
       "  </thead>\n",
       "  <tbody>\n",
       "    <tr>\n",
       "      <td>52774929</td>\n",
       "      <td>2018-03-07 00:00:00+00:00</td>\n",
       "      <td>and</td>\n",
       "      <td>F</td>\n",
       "      <td>FRA</td>\n",
       "      <td>27</td>\n",
       "      <td>2015-04-22 07:42:14</td>\n",
       "      <td>NaT</td>\n",
       "      <td>481.0</td>\n",
       "    </tr>\n",
       "    <tr>\n",
       "      <td>40143397</td>\n",
       "      <td>2016-07-02 00:00:00+00:00</td>\n",
       "      <td>and</td>\n",
       "      <td>F</td>\n",
       "      <td>DEU</td>\n",
       "      <td>56</td>\n",
       "      <td>NaT</td>\n",
       "      <td>2017-11-06 21:04:28</td>\n",
       "      <td>445.0</td>\n",
       "    </tr>\n",
       "    <tr>\n",
       "      <td>89856430</td>\n",
       "      <td>2017-06-05 00:00:00+00:00</td>\n",
       "      <td>and</td>\n",
       "      <td>M</td>\n",
       "      <td>TUR</td>\n",
       "      <td>31</td>\n",
       "      <td>NaT</td>\n",
       "      <td>2016-07-07 20:54:41</td>\n",
       "      <td>402.0</td>\n",
       "    </tr>\n",
       "    <tr>\n",
       "      <td>76188504</td>\n",
       "      <td>2016-09-24 00:00:00+00:00</td>\n",
       "      <td>iOS</td>\n",
       "      <td>M</td>\n",
       "      <td>BRA</td>\n",
       "      <td>54</td>\n",
       "      <td>2017-10-01 13:38:05</td>\n",
       "      <td>NaT</td>\n",
       "      <td>443.0</td>\n",
       "    </tr>\n",
       "    <tr>\n",
       "      <td>76493748</td>\n",
       "      <td>2017-06-07 00:00:00+00:00</td>\n",
       "      <td>iOS</td>\n",
       "      <td>M</td>\n",
       "      <td>BRA</td>\n",
       "      <td>24</td>\n",
       "      <td>2016-05-02 13:16:48</td>\n",
       "      <td>2016-04-27 20:01:23</td>\n",
       "      <td>NaN</td>\n",
       "    </tr>\n",
       "  </tbody>\n",
       "</table>\n",
       "</div>"
      ],
      "text/plain": [
       "                          reg_date device gender country  age  \\\n",
       "uid                                                             \n",
       "52774929 2018-03-07 00:00:00+00:00    and      F     FRA   27   \n",
       "40143397 2016-07-02 00:00:00+00:00    and      F     DEU   56   \n",
       "89856430 2017-06-05 00:00:00+00:00    and      M     TUR   31   \n",
       "76188504 2016-09-24 00:00:00+00:00    iOS      M     BRA   54   \n",
       "76493748 2017-06-07 00:00:00+00:00    iOS      M     BRA   24   \n",
       "\n",
       "                  lapse_date   subscription_date  price  \n",
       "uid                                                      \n",
       "52774929 2015-04-22 07:42:14                 NaT  481.0  \n",
       "40143397                 NaT 2017-11-06 21:04:28  445.0  \n",
       "89856430                 NaT 2016-07-07 20:54:41  402.0  \n",
       "76188504 2017-10-01 13:38:05                 NaT  443.0  \n",
       "76493748 2016-05-02 13:16:48 2016-04-27 20:01:23    NaN  "
      ]
     },
     "execution_count": 4,
     "metadata": {},
     "output_type": "execute_result"
    }
   ],
   "source": [
    "demo_agg.head()"
   ]
  },
  {
   "cell_type": "code",
   "execution_count": 5,
   "metadata": {},
   "outputs": [
    {
     "data": {
      "text/plain": [
       "<matplotlib.axes._subplots.AxesSubplot at 0x1a24a6e650>"
      ]
     },
     "execution_count": 5,
     "metadata": {},
     "output_type": "execute_result"
    },
    {
     "data": {
      "image/png": "[encoded data removed]",
      "text/plain": [
       "<Figure size 1296x1080 with 4 Axes>"
      ]
     },
     "metadata": {
      "needs_background": "light"
     },
     "output_type": "display_data"
    }
   ],
   "source": [
    "f,ax=plt.subplots(2,2,figsize=(18,15))\n",
    "sns.countplot(demo_agg.gender, hue=demo_agg.device,ax=ax[0][0])\n",
    "sns.countplot(demo_agg.country, hue=demo_agg.gender, ax = ax[0][1])\n",
    "sns.countplot(demo_agg.gender, ax = ax[1][0])\n",
    "sns.boxplot(y= demo_agg.age,x=demo_agg.gender,ax = ax[1][1])"
   ]
  },
  {
   "cell_type": "code",
   "execution_count": 6,
   "metadata": {},
   "outputs": [
    {
     "data": {
      "text/plain": [
       "F    585\n",
       "M    515\n",
       "Name: gender, dtype: int64"
      ]
     },
     "execution_count": 6,
     "metadata": {},
     "output_type": "execute_result"
    }
   ],
   "source": [
    "demo_agg.gender.value_counts()"
   ]
  },
  {
   "cell_type": "markdown",
   "metadata": {},
   "source": [
    "### Dealing with missing variables"
   ]
  },
  {
   "cell_type": "code",
   "execution_count": 7,
   "metadata": {},
   "outputs": [
    {
     "data": {
      "text/plain": [
       "<matplotlib.axes._subplots.AxesSubplot at 0x1a2557d250>"
      ]
     },
     "execution_count": 7,
     "metadata": {},
     "output_type": "execute_result"
    },
    {
     "data": {
      "image/png": "[encoded data removed]",
      "text/plain": [
       "<Figure size 1800x720 with 2 Axes>"
      ]
     },
     "metadata": {
      "needs_background": "light"
     },
     "output_type": "display_data"
    }
   ],
   "source": [
    "a = demo_agg.isnull()\n",
    "msno.matrix(demo_agg)"
   ]
  },
  {
   "cell_type": "code",
   "execution_count": 8,
   "metadata": {},
   "outputs": [
    {
     "data": {
      "image/png": "[encoded data removed]",
      "text/plain": [
       "<Figure size 360x360 with 1 Axes>"
      ]
     },
     "metadata": {},
     "output_type": "display_data"
    }
   ],
   "source": [
    "#The percentage of missing values to the total is 5% so it is alright to drop it.\n",
    "percentage_of_missing_values=demo_agg.isnull().sum().sum() / demo_agg.shape[0] *100\n",
    "demo_agg.shape[0]\n",
    "f1,ax1 = plt.subplots(figsize=(5,5))\n",
    "ax1.pie([demo_agg.shape[0],percentage_of_missing_values], labels=['Total','Missing'],explode=(0,0.3),shadow=True,autopct='%1.1f%%')\n",
    "plt.show()"
   ]
  },
  {
   "cell_type": "code",
   "execution_count": 9,
   "metadata": {},
   "outputs": [
    {
     "data": {
      "text/plain": [
       "0"
      ]
     },
     "execution_count": 9,
     "metadata": {},
     "output_type": "execute_result"
    }
   ],
   "source": [
    "#Dropping all of the null values\n",
    "demo_agg=demo_agg.dropna()\n",
    "demo_agg.isnull().sum().sum()"
   ]
  },
  {
   "cell_type": "markdown",
   "metadata": {},
   "source": [
    "### A/B testing"
   ]
  },
  {
   "cell_type": "code",
   "execution_count": 171,
   "metadata": {},
   "outputs": [
    {
     "data": {
      "image/png": "[encoded data removed]",
      "text/plain": [
       "<Figure size 432x288 with 1 Axes>"
      ]
     },
     "metadata": {
      "needs_background": "light"
     },
     "output_type": "display_data"
    }
   ],
   "source": [
    "demo_agg[[\"reg_date\",\"lapse_date\"]].max()\n",
    "current_date = pd.to_datetime(\"2018-03-17\")\n",
    "\n",
    "# Max lapse day, a week before today\n",
    "max_lapse_date = current_date - timedelta(7)\n",
    "\n",
    "#Selecting the users that lapsed before the lapse day\n",
    "conv_users = demo_agg[(demo_agg.lapse_date < max_lapse_date)]\n",
    "total_user_count = conv_users.price.count()\n",
    "max_sub_date = conv_users.lapse_date+timedelta(days=7)\n",
    "\n",
    "#Filterning non zero subscriptions\n",
    "total_subs = conv_users[(conv_users.price > 0) & (conv_users.subscription_date <= max_sub_date)]\n",
    "conversion_rate = total_subs.price.count() / total_user_count\n",
    "\n",
    "x=['total','subscribed']\n",
    "y=[100,np.round(conversion_rate*100, decimals=2)]\n",
    "count = sns.barplot(x,y)\n",
    "for i,v in enumerate(x):\n",
    "         count.text(i, y[i],y[i])\n"
   ]
  },
  {
   "cell_type": "code",
   "execution_count": 185,
   "metadata": {},
   "outputs": [
    {
     "data": {
      "text/html": [
       "<div>\n",
       "<style scoped>\n",
       "    .dataframe tbody tr th:only-of-type {\n",
       "        vertical-align: middle;\n",
       "    }\n",
       "\n",
       "    .dataframe tbody tr th {\n",
       "        vertical-align: top;\n",
       "    }\n",
       "\n",
       "    .dataframe thead tr th {\n",
       "        text-align: left;\n",
       "    }\n",
       "</style>\n",
       "<table border=\"1\" class=\"dataframe\">\n",
       "  <thead>\n",
       "    <tr>\n",
       "      <th></th>\n",
       "      <th>gender</th>\n",
       "      <th>device</th>\n",
       "      <th colspan=\"3\" halign=\"left\">price</th>\n",
       "      <th colspan=\"3\" halign=\"left\">age</th>\n",
       "    </tr>\n",
       "    <tr>\n",
       "      <th></th>\n",
       "      <th></th>\n",
       "      <th></th>\n",
       "      <th>mean</th>\n",
       "      <th>min</th>\n",
       "      <th>max</th>\n",
       "      <th>mean</th>\n",
       "      <th>min</th>\n",
       "      <th>max</th>\n",
       "    </tr>\n",
       "  </thead>\n",
       "  <tbody>\n",
       "    <tr>\n",
       "      <td>0</td>\n",
       "      <td>F</td>\n",
       "      <td>and</td>\n",
       "      <td>449.957143</td>\n",
       "      <td>402.0</td>\n",
       "      <td>499.0</td>\n",
       "      <td>25.414286</td>\n",
       "      <td>15</td>\n",
       "      <td>76</td>\n",
       "    </tr>\n",
       "    <tr>\n",
       "      <td>1</td>\n",
       "      <td>F</td>\n",
       "      <td>iOS</td>\n",
       "      <td>453.464567</td>\n",
       "      <td>400.0</td>\n",
       "      <td>499.0</td>\n",
       "      <td>25.212598</td>\n",
       "      <td>15</td>\n",
       "      <td>75</td>\n",
       "    </tr>\n",
       "    <tr>\n",
       "      <td>2</td>\n",
       "      <td>M</td>\n",
       "      <td>and</td>\n",
       "      <td>448.780822</td>\n",
       "      <td>400.0</td>\n",
       "      <td>499.0</td>\n",
       "      <td>23.273973</td>\n",
       "      <td>15</td>\n",
       "      <td>76</td>\n",
       "    </tr>\n",
       "    <tr>\n",
       "      <td>3</td>\n",
       "      <td>M</td>\n",
       "      <td>iOS</td>\n",
       "      <td>448.222222</td>\n",
       "      <td>400.0</td>\n",
       "      <td>497.0</td>\n",
       "      <td>24.120370</td>\n",
       "      <td>15</td>\n",
       "      <td>61</td>\n",
       "    </tr>\n",
       "  </tbody>\n",
       "</table>\n",
       "</div>"
      ],
      "text/plain": [
       "  gender device       price                      age        \n",
       "                       mean    min    max       mean min max\n",
       "0      F    and  449.957143  402.0  499.0  25.414286  15  76\n",
       "1      F    iOS  453.464567  400.0  499.0  25.212598  15  75\n",
       "2      M    and  448.780822  400.0  499.0  23.273973  15  76\n",
       "3      M    iOS  448.222222  400.0  497.0  24.120370  15  61"
      ]
     },
     "execution_count": 185,
     "metadata": {},
     "output_type": "execute_result"
    }
   ],
   "source": [
    "measure=['mean','min','max']\n",
    "agg = total_subs.groupby(['gender','device'], as_index=False).agg({'price':measure, 'age':measure})\n",
    "agg"
   ]
  },
  {
   "cell_type": "code",
   "execution_count": null,
   "metadata": {},
   "outputs": [],
   "source": []
  },
  {
   "cell_type": "code",
   "execution_count": null,
   "metadata": {},
   "outputs": [],
   "source": []
  },
  {
   "cell_type": "markdown",
   "metadata": {},
   "source": [
    "### Cohort conversion rate"
   ]
  },
  {
   "cell_type": "code",
   "execution_count": 109,
   "metadata": {},
   "outputs": [
    {
     "data": {
      "text/html": [
       "<div>\n",
       "<style scoped>\n",
       "    .dataframe tbody tr th:only-of-type {\n",
       "        vertical-align: middle;\n",
       "    }\n",
       "\n",
       "    .dataframe tbody tr th {\n",
       "        vertical-align: top;\n",
       "    }\n",
       "\n",
       "    .dataframe thead th {\n",
       "        text-align: right;\n",
       "    }\n",
       "</style>\n",
       "<table border=\"1\" class=\"dataframe\">\n",
       "  <thead>\n",
       "    <tr style=\"text-align: right;\">\n",
       "      <th></th>\n",
       "      <th>reg_date</th>\n",
       "      <th>device</th>\n",
       "      <th>gender</th>\n",
       "      <th>country</th>\n",
       "      <th>age</th>\n",
       "      <th>lapse_date</th>\n",
       "      <th>subscription_date</th>\n",
       "      <th>price</th>\n",
       "    </tr>\n",
       "    <tr>\n",
       "      <th>uid</th>\n",
       "      <th></th>\n",
       "      <th></th>\n",
       "      <th></th>\n",
       "      <th></th>\n",
       "      <th></th>\n",
       "      <th></th>\n",
       "      <th></th>\n",
       "      <th></th>\n",
       "    </tr>\n",
       "  </thead>\n",
       "  <tbody>\n",
       "    <tr>\n",
       "      <td>47634767</td>\n",
       "      <td>2017-02-21 00:00:00+00:00</td>\n",
       "      <td>and</td>\n",
       "      <td>M</td>\n",
       "      <td>USA</td>\n",
       "      <td>18</td>\n",
       "      <td>2016-10-13 09:25:45</td>\n",
       "      <td>2016-03-05 01:55:07</td>\n",
       "      <td>494.0</td>\n",
       "    </tr>\n",
       "    <tr>\n",
       "      <td>62002686</td>\n",
       "      <td>2015-12-06 00:00:00+00:00</td>\n",
       "      <td>iOS</td>\n",
       "      <td>M</td>\n",
       "      <td>USA</td>\n",
       "      <td>35</td>\n",
       "      <td>2016-09-23 17:05:26</td>\n",
       "      <td>2015-04-01 04:06:00</td>\n",
       "      <td>401.0</td>\n",
       "    </tr>\n",
       "    <tr>\n",
       "      <td>23273361</td>\n",
       "      <td>2018-01-17 00:00:00+00:00</td>\n",
       "      <td>and</td>\n",
       "      <td>F</td>\n",
       "      <td>DEU</td>\n",
       "      <td>18</td>\n",
       "      <td>2016-07-23 18:00:52</td>\n",
       "      <td>2016-05-14 20:27:27</td>\n",
       "      <td>404.0</td>\n",
       "    </tr>\n",
       "    <tr>\n",
       "      <td>97420971</td>\n",
       "      <td>2017-03-07 00:00:00+00:00</td>\n",
       "      <td>and</td>\n",
       "      <td>M</td>\n",
       "      <td>TUR</td>\n",
       "      <td>32</td>\n",
       "      <td>2017-11-14 07:01:25</td>\n",
       "      <td>2016-11-11 09:39:37</td>\n",
       "      <td>403.0</td>\n",
       "    </tr>\n",
       "    <tr>\n",
       "      <td>83886673</td>\n",
       "      <td>2017-07-10 00:00:00+00:00</td>\n",
       "      <td>and</td>\n",
       "      <td>F</td>\n",
       "      <td>USA</td>\n",
       "      <td>36</td>\n",
       "      <td>2016-12-25 22:24:00</td>\n",
       "      <td>2016-02-12 23:27:40</td>\n",
       "      <td>495.0</td>\n",
       "    </tr>\n",
       "    <tr>\n",
       "      <td>...</td>\n",
       "      <td>...</td>\n",
       "      <td>...</td>\n",
       "      <td>...</td>\n",
       "      <td>...</td>\n",
       "      <td>...</td>\n",
       "      <td>...</td>\n",
       "      <td>...</td>\n",
       "      <td>...</td>\n",
       "    </tr>\n",
       "    <tr>\n",
       "      <td>29739361</td>\n",
       "      <td>2017-12-26 00:00:00+00:00</td>\n",
       "      <td>iOS</td>\n",
       "      <td>F</td>\n",
       "      <td>TUR</td>\n",
       "      <td>18</td>\n",
       "      <td>2015-09-11 06:11:27</td>\n",
       "      <td>2015-07-16 22:30:34</td>\n",
       "      <td>451.0</td>\n",
       "    </tr>\n",
       "    <tr>\n",
       "      <td>28505894</td>\n",
       "      <td>2016-09-17 00:00:00+00:00</td>\n",
       "      <td>and</td>\n",
       "      <td>M</td>\n",
       "      <td>USA</td>\n",
       "      <td>33</td>\n",
       "      <td>2017-05-30 18:27:13</td>\n",
       "      <td>2015-10-25 09:42:13</td>\n",
       "      <td>481.0</td>\n",
       "    </tr>\n",
       "    <tr>\n",
       "      <td>98170020</td>\n",
       "      <td>2017-07-21 00:00:00+00:00</td>\n",
       "      <td>iOS</td>\n",
       "      <td>F</td>\n",
       "      <td>DEU</td>\n",
       "      <td>15</td>\n",
       "      <td>2017-03-26 09:53:48</td>\n",
       "      <td>2016-08-04 22:53:43</td>\n",
       "      <td>468.0</td>\n",
       "    </tr>\n",
       "    <tr>\n",
       "      <td>94026525</td>\n",
       "      <td>2017-06-06 00:00:00+00:00</td>\n",
       "      <td>iOS</td>\n",
       "      <td>F</td>\n",
       "      <td>USA</td>\n",
       "      <td>30</td>\n",
       "      <td>2018-02-08 05:17:00</td>\n",
       "      <td>2017-02-22 12:36:58</td>\n",
       "      <td>473.0</td>\n",
       "    </tr>\n",
       "    <tr>\n",
       "      <td>32942475</td>\n",
       "      <td>2017-09-18 00:00:00+00:00</td>\n",
       "      <td>iOS</td>\n",
       "      <td>M</td>\n",
       "      <td>USA</td>\n",
       "      <td>15</td>\n",
       "      <td>2016-08-08 01:01:57</td>\n",
       "      <td>2016-04-09 21:17:30</td>\n",
       "      <td>420.0</td>\n",
       "    </tr>\n",
       "  </tbody>\n",
       "</table>\n",
       "<p>521 rows × 8 columns</p>\n",
       "</div>"
      ],
      "text/plain": [
       "                          reg_date device gender country  age  \\\n",
       "uid                                                             \n",
       "47634767 2017-02-21 00:00:00+00:00    and      M     USA   18   \n",
       "62002686 2015-12-06 00:00:00+00:00    iOS      M     USA   35   \n",
       "23273361 2018-01-17 00:00:00+00:00    and      F     DEU   18   \n",
       "97420971 2017-03-07 00:00:00+00:00    and      M     TUR   32   \n",
       "83886673 2017-07-10 00:00:00+00:00    and      F     USA   36   \n",
       "...                            ...    ...    ...     ...  ...   \n",
       "29739361 2017-12-26 00:00:00+00:00    iOS      F     TUR   18   \n",
       "28505894 2016-09-17 00:00:00+00:00    and      M     USA   33   \n",
       "98170020 2017-07-21 00:00:00+00:00    iOS      F     DEU   15   \n",
       "94026525 2017-06-06 00:00:00+00:00    iOS      F     USA   30   \n",
       "32942475 2017-09-18 00:00:00+00:00    iOS      M     USA   15   \n",
       "\n",
       "                  lapse_date   subscription_date  price  \n",
       "uid                                                      \n",
       "47634767 2016-10-13 09:25:45 2016-03-05 01:55:07  494.0  \n",
       "62002686 2016-09-23 17:05:26 2015-04-01 04:06:00  401.0  \n",
       "23273361 2016-07-23 18:00:52 2016-05-14 20:27:27  404.0  \n",
       "97420971 2017-11-14 07:01:25 2016-11-11 09:39:37  403.0  \n",
       "83886673 2016-12-25 22:24:00 2016-02-12 23:27:40  495.0  \n",
       "...                      ...                 ...    ...  \n",
       "29739361 2015-09-11 06:11:27 2015-07-16 22:30:34  451.0  \n",
       "28505894 2017-05-30 18:27:13 2015-10-25 09:42:13  481.0  \n",
       "98170020 2017-03-26 09:53:48 2016-08-04 22:53:43  468.0  \n",
       "94026525 2018-02-08 05:17:00 2017-02-22 12:36:58  473.0  \n",
       "32942475 2016-08-08 01:01:57 2016-04-09 21:17:30  420.0  \n",
       "\n",
       "[521 rows x 8 columns]"
      ]
     },
     "execution_count": 109,
     "metadata": {},
     "output_type": "execute_result"
    }
   ],
   "source": [
    "total_subs"
   ]
  },
  {
   "cell_type": "code",
   "execution_count": 168,
   "metadata": {},
   "outputs": [
    {
     "data": {
      "text/plain": [
       "<matplotlib.axes._subplots.AxesSubplot at 0x1a335ee150>"
      ]
     },
     "execution_count": 168,
     "metadata": {},
     "output_type": "execute_result"
    },
    {
     "data": {
      "image/png": "[encoded data removed]",
      "text/plain": [
       "<Figure size 432x288 with 1 Axes>"
      ]
     },
     "metadata": {
      "needs_background": "light"
     },
     "output_type": "display_data"
    }
   ],
   "source": [
    "by_gender = total_subs.groupby(['gender','device'], as_index=False).mean()\n",
    "sns.barplot(x=by_gender.device, y = by_gender.age, hue=by_gender.gender)"
   ]
  },
  {
   "cell_type": "code",
   "execution_count": 147,
   "metadata": {},
   "outputs": [
    {
     "data": {
      "text/html": [
       "<div>\n",
       "<style scoped>\n",
       "    .dataframe tbody tr th:only-of-type {\n",
       "        vertical-align: middle;\n",
       "    }\n",
       "\n",
       "    .dataframe tbody tr th {\n",
       "        vertical-align: top;\n",
       "    }\n",
       "\n",
       "    .dataframe thead th {\n",
       "        text-align: right;\n",
       "    }\n",
       "</style>\n",
       "<table border=\"1\" class=\"dataframe\">\n",
       "  <thead>\n",
       "    <tr style=\"text-align: right;\">\n",
       "      <th></th>\n",
       "      <th>gender</th>\n",
       "      <th>device</th>\n",
       "      <th>age</th>\n",
       "      <th>price</th>\n",
       "    </tr>\n",
       "  </thead>\n",
       "  <tbody>\n",
       "    <tr>\n",
       "      <td>0</td>\n",
       "      <td>F</td>\n",
       "      <td>and</td>\n",
       "      <td>25.414286</td>\n",
       "      <td>449.957143</td>\n",
       "    </tr>\n",
       "    <tr>\n",
       "      <td>1</td>\n",
       "      <td>F</td>\n",
       "      <td>iOS</td>\n",
       "      <td>25.212598</td>\n",
       "      <td>453.464567</td>\n",
       "    </tr>\n",
       "    <tr>\n",
       "      <td>2</td>\n",
       "      <td>M</td>\n",
       "      <td>and</td>\n",
       "      <td>23.273973</td>\n",
       "      <td>448.780822</td>\n",
       "    </tr>\n",
       "    <tr>\n",
       "      <td>3</td>\n",
       "      <td>M</td>\n",
       "      <td>iOS</td>\n",
       "      <td>24.120370</td>\n",
       "      <td>448.222222</td>\n",
       "    </tr>\n",
       "  </tbody>\n",
       "</table>\n",
       "</div>"
      ],
      "text/plain": [
       "  gender device        age       price\n",
       "0      F    and  25.414286  449.957143\n",
       "1      F    iOS  25.212598  453.464567\n",
       "2      M    and  23.273973  448.780822\n",
       "3      M    iOS  24.120370  448.222222"
      ]
     },
     "execution_count": 147,
     "metadata": {},
     "output_type": "execute_result"
    }
   ],
   "source": [
    "by_gender.mean()"
   ]
  },
  {
   "cell_type": "code",
   "execution_count": 214,
   "metadata": {},
   "outputs": [],
   "source": [
    "\n",
    "\n"
   ]
  },
  {
   "cell_type": "code",
   "execution_count": 215,
   "metadata": {},
   "outputs": [
    {
     "ename": "NameError",
     "evalue": "name 'b' is not defined",
     "output_type": "error",
     "traceback": [
      "\u001b[0;31m---------------------------------------------------------------------------\u001b[0m",
      "\u001b[0;31mNameError\u001b[0m                                 Traceback (most recent call last)",
      "\u001b[0;32m<ipython-input-215-89e6c98d9288>\u001b[0m in \u001b[0;36m<module>\u001b[0;34m\u001b[0m\n\u001b[0;32m----> 1\u001b[0;31m \u001b[0mb\u001b[0m\u001b[0;34m\u001b[0m\u001b[0;34m\u001b[0m\u001b[0m\n\u001b[0m",
      "\u001b[0;31mNameError\u001b[0m: name 'b' is not defined"
     ]
    }
   ],
   "source": [
    "b"
   ]
  },
  {
   "cell_type": "code",
   "execution_count": null,
   "metadata": {},
   "outputs": [],
   "source": []
  }
 ],
 "metadata": {
  "kernelspec": {
   "display_name": "Python 3",
   "language": "python",
   "name": "python3"
  },
  "language_info": {
   "codemirror_mode": {
    "name": "ipython",
    "version": 3
   },
   "file_extension": ".py",
   "mimetype": "text/x-python",
   "name": "python",
   "nbconvert_exporter": "python",
   "pygments_lexer": "ipython3",
   "version": "3.7.4"
  }
 },
 "nbformat": 4,
 "nbformat_minor": 2
}
