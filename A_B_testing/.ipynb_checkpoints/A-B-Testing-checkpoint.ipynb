{
 "cells": [
  {
   "cell_type": "markdown",
   "metadata": {},
   "source": [
    "#### Since I do not have access to the customer subscriptions, I just created a dummy one."
   ]
  },
  {
   "cell_type": "code",
   "execution_count": 3,
   "metadata": {},
   "outputs": [],
   "source": [
    "import numpy as np\n",
    "import pandas as pd\n",
    "from datetime import datetime as dt\n",
    "from datetime import timedelta\n",
    "import matplotlib.pyplot as plt\n",
    "%matplotlib inline\n",
    "import seaborn as sns\n",
    "import missingno as msno\n",
    "from scipy import stats\n",
    "plt.style.use('fivethirtyeight') \n",
    "\n",
    "#Reading only the dates and discarding the time \n",
    "dateparse = lambda x: pd.datetime.strptime(x[:10],'%Y-%m-%d')\n",
    "customer_demographics = pd.read_csv(\"https://assets.datacamp.com/production/repositories/1646/datasets/01054025eb094ac1086edf8d206b313b84d911c5/user_demographics_paywall.csv\" \\\n",
    "                                 ,parse_dates=['reg_date'], date_parser=dateparse)\n",
    "\n",
    "\n",
    "\n",
    "#Creating the customer subscription data-set\n",
    "def random_dates(start, end, n, unit='D', seed=None):\n",
    "    if not seed:  \n",
    "        np.random.seed(0)\n",
    "\n",
    "    ndays = (end - start).days + 1\n",
    "    return pd.to_timedelta(np.random.rand(n) * ndays, unit=unit) + start\n",
    "\n",
    "start = pd.to_datetime(customer_demographics.reg_date.min())\n",
    "end = pd.to_datetime(customer_demographics.reg_date.max())\n",
    "\n",
    "data ={\n",
    " \"uid\" : customer_demographics.uid,\n",
    " \"lapse_date\":random_dates(start,end,customer_demographics.shape[0]),\n",
    " \"subscription_date\":random_dates(start + timedelta(2),end, customer_demographics.shape[0]),\n",
    " \"price\":list(np.random.randint(400,500,customer_demographics.shape[0]))\n",
    " }\n",
    "customer_subscriptions = pd.DataFrame(data)\n",
    "customer_subscriptions[['lapse_date','subscription_date']] = customer_subscriptions[['lapse_date','subscription_date']].apply(lambda x: x.dt.strftime(\"%Y-%m-%d\"))\n",
    "customer_subscriptions.set_index('uid', inplace = True)\n",
    "\n",
    "\n",
    "\n",
    "\n",
    "#creating random null values\n",
    "index = customer_subscriptions.sample(frac=0.05, random_state=1).index\n",
    "for i in index:\n",
    "    customer_subscriptions.iloc[index.get_loc(i),np.random.randint(1,3)] = np.nan\n",
    "\n",
    "#Merging the two datasets\n",
    "demo_agg = customer_demographics.merge(customer_subscriptions, how='inner', on=['uid'])\n",
    "demo_agg.set_index('uid',inplace =True)\n"
   ]
  },
  {
   "cell_type": "markdown",
   "metadata": {},
   "source": [
    "## EDA"
   ]
  },
  {
   "cell_type": "code",
   "execution_count": 4,
   "metadata": {},
   "outputs": [
    {
     "name": "stdout",
     "output_type": "stream",
     "text": [
      "<class 'pandas.core.frame.DataFrame'>\n",
      "Int64Index: 1100 entries, 52774929 to 32942475\n",
      "Data columns (total 8 columns):\n",
      "reg_date             1100 non-null datetime64[ns]\n",
      "device               1100 non-null object\n",
      "gender               1100 non-null object\n",
      "country              1100 non-null object\n",
      "age                  1100 non-null int64\n",
      "lapse_date           1100 non-null object\n",
      "subscription_date    1076 non-null object\n",
      "price                1069 non-null float64\n",
      "dtypes: datetime64[ns](1), float64(1), int64(1), object(5)\n",
      "memory usage: 77.3+ KB\n"
     ]
    },
    {
     "data": {
      "text/html": [
       "<div>\n",
       "<style scoped>\n",
       "    .dataframe tbody tr th:only-of-type {\n",
       "        vertical-align: middle;\n",
       "    }\n",
       "\n",
       "    .dataframe tbody tr th {\n",
       "        vertical-align: top;\n",
       "    }\n",
       "\n",
       "    .dataframe thead th {\n",
       "        text-align: right;\n",
       "    }\n",
       "</style>\n",
       "<table border=\"1\" class=\"dataframe\">\n",
       "  <thead>\n",
       "    <tr style=\"text-align: right;\">\n",
       "      <th></th>\n",
       "      <th>age</th>\n",
       "      <th>price</th>\n",
       "    </tr>\n",
       "  </thead>\n",
       "  <tbody>\n",
       "    <tr>\n",
       "      <td>count</td>\n",
       "      <td>1100.000000</td>\n",
       "      <td>1069.000000</td>\n",
       "    </tr>\n",
       "    <tr>\n",
       "      <td>mean</td>\n",
       "      <td>24.798182</td>\n",
       "      <td>448.579046</td>\n",
       "    </tr>\n",
       "    <tr>\n",
       "      <td>std</td>\n",
       "      <td>10.689479</td>\n",
       "      <td>28.691870</td>\n",
       "    </tr>\n",
       "    <tr>\n",
       "      <td>min</td>\n",
       "      <td>15.000000</td>\n",
       "      <td>400.000000</td>\n",
       "    </tr>\n",
       "    <tr>\n",
       "      <td>25%</td>\n",
       "      <td>17.000000</td>\n",
       "      <td>423.000000</td>\n",
       "    </tr>\n",
       "    <tr>\n",
       "      <td>50%</td>\n",
       "      <td>21.000000</td>\n",
       "      <td>448.000000</td>\n",
       "    </tr>\n",
       "    <tr>\n",
       "      <td>75%</td>\n",
       "      <td>29.000000</td>\n",
       "      <td>473.000000</td>\n",
       "    </tr>\n",
       "    <tr>\n",
       "      <td>max</td>\n",
       "      <td>85.000000</td>\n",
       "      <td>499.000000</td>\n",
       "    </tr>\n",
       "  </tbody>\n",
       "</table>\n",
       "</div>"
      ],
      "text/plain": [
       "               age        price\n",
       "count  1100.000000  1069.000000\n",
       "mean     24.798182   448.579046\n",
       "std      10.689479    28.691870\n",
       "min      15.000000   400.000000\n",
       "25%      17.000000   423.000000\n",
       "50%      21.000000   448.000000\n",
       "75%      29.000000   473.000000\n",
       "max      85.000000   499.000000"
      ]
     },
     "execution_count": 4,
     "metadata": {},
     "output_type": "execute_result"
    }
   ],
   "source": [
    "demo_agg.info()\n",
    "demo_agg.describe()"
   ]
  },
  {
   "cell_type": "code",
   "execution_count": 5,
   "metadata": {},
   "outputs": [
    {
     "data": {
      "text/plain": [
       "reg_date              0\n",
       "device                0\n",
       "gender                0\n",
       "country               0\n",
       "age                   0\n",
       "lapse_date            0\n",
       "subscription_date    24\n",
       "price                31\n",
       "dtype: int64"
      ]
     },
     "execution_count": 5,
     "metadata": {},
     "output_type": "execute_result"
    }
   ],
   "source": [
    "demo_agg.isnull().sum()"
   ]
  },
  {
   "cell_type": "code",
   "execution_count": 6,
   "metadata": {
    "scrolled": true
   },
   "outputs": [
    {
     "data": {
      "text/html": [
       "<div>\n",
       "<style scoped>\n",
       "    .dataframe tbody tr th:only-of-type {\n",
       "        vertical-align: middle;\n",
       "    }\n",
       "\n",
       "    .dataframe tbody tr th {\n",
       "        vertical-align: top;\n",
       "    }\n",
       "\n",
       "    .dataframe thead th {\n",
       "        text-align: right;\n",
       "    }\n",
       "</style>\n",
       "<table border=\"1\" class=\"dataframe\">\n",
       "  <thead>\n",
       "    <tr style=\"text-align: right;\">\n",
       "      <th></th>\n",
       "      <th>reg_date</th>\n",
       "      <th>device</th>\n",
       "      <th>gender</th>\n",
       "      <th>country</th>\n",
       "      <th>age</th>\n",
       "      <th>lapse_date</th>\n",
       "      <th>subscription_date</th>\n",
       "      <th>price</th>\n",
       "    </tr>\n",
       "    <tr>\n",
       "      <th>uid</th>\n",
       "      <th></th>\n",
       "      <th></th>\n",
       "      <th></th>\n",
       "      <th></th>\n",
       "      <th></th>\n",
       "      <th></th>\n",
       "      <th></th>\n",
       "      <th></th>\n",
       "    </tr>\n",
       "  </thead>\n",
       "  <tbody>\n",
       "    <tr>\n",
       "      <td>52774929</td>\n",
       "      <td>2018-03-07</td>\n",
       "      <td>and</td>\n",
       "      <td>F</td>\n",
       "      <td>FRA</td>\n",
       "      <td>27</td>\n",
       "      <td>2016-10-20</td>\n",
       "      <td>2016-10-20</td>\n",
       "      <td>NaN</td>\n",
       "    </tr>\n",
       "    <tr>\n",
       "      <td>40143397</td>\n",
       "      <td>2016-07-02</td>\n",
       "      <td>and</td>\n",
       "      <td>F</td>\n",
       "      <td>DEU</td>\n",
       "      <td>56</td>\n",
       "      <td>2017-04-27</td>\n",
       "      <td>NaN</td>\n",
       "      <td>429.0</td>\n",
       "    </tr>\n",
       "    <tr>\n",
       "      <td>89856430</td>\n",
       "      <td>2017-06-05</td>\n",
       "      <td>and</td>\n",
       "      <td>M</td>\n",
       "      <td>TUR</td>\n",
       "      <td>31</td>\n",
       "      <td>2016-12-20</td>\n",
       "      <td>NaN</td>\n",
       "      <td>428.0</td>\n",
       "    </tr>\n",
       "    <tr>\n",
       "      <td>76188504</td>\n",
       "      <td>2016-09-24</td>\n",
       "      <td>iOS</td>\n",
       "      <td>M</td>\n",
       "      <td>BRA</td>\n",
       "      <td>54</td>\n",
       "      <td>2016-10-15</td>\n",
       "      <td>2016-10-16</td>\n",
       "      <td>NaN</td>\n",
       "    </tr>\n",
       "    <tr>\n",
       "      <td>76493748</td>\n",
       "      <td>2017-06-07</td>\n",
       "      <td>iOS</td>\n",
       "      <td>M</td>\n",
       "      <td>BRA</td>\n",
       "      <td>24</td>\n",
       "      <td>2016-05-30</td>\n",
       "      <td>2016-05-31</td>\n",
       "      <td>NaN</td>\n",
       "    </tr>\n",
       "  </tbody>\n",
       "</table>\n",
       "</div>"
      ],
      "text/plain": [
       "           reg_date device gender country  age  lapse_date subscription_date  \\\n",
       "uid                                                                            \n",
       "52774929 2018-03-07    and      F     FRA   27  2016-10-20        2016-10-20   \n",
       "40143397 2016-07-02    and      F     DEU   56  2017-04-27               NaN   \n",
       "89856430 2017-06-05    and      M     TUR   31  2016-12-20               NaN   \n",
       "76188504 2016-09-24    iOS      M     BRA   54  2016-10-15        2016-10-16   \n",
       "76493748 2017-06-07    iOS      M     BRA   24  2016-05-30        2016-05-31   \n",
       "\n",
       "          price  \n",
       "uid              \n",
       "52774929    NaN  \n",
       "40143397  429.0  \n",
       "89856430  428.0  \n",
       "76188504    NaN  \n",
       "76493748    NaN  "
      ]
     },
     "execution_count": 6,
     "metadata": {},
     "output_type": "execute_result"
    }
   ],
   "source": [
    "demo_agg.head()"
   ]
  },
  {
   "cell_type": "code",
   "execution_count": 7,
   "metadata": {},
   "outputs": [
    {
     "data": {
      "text/plain": [
       "<matplotlib.axes._subplots.AxesSubplot at 0x1a21f2aa90>"
      ]
     },
     "execution_count": 7,
     "metadata": {},
     "output_type": "execute_result"
    },
    {
     "data": {
      "image/png": "[encoded data removed]",
      "text/plain": [
       "<Figure size 1296x1080 with 4 Axes>"
      ]
     },
     "metadata": {
      "needs_background": "light"
     },
     "output_type": "display_data"
    }
   ],
   "source": [
    "f,ax=plt.subplots(2,2,figsize=(18,15))\n",
    "sns.countplot(demo_agg.gender, hue=demo_agg.device,ax=ax[0][0])\n",
    "sns.countplot(demo_agg.country, hue=demo_agg.gender, ax = ax[0][1])\n",
    "sns.countplot(demo_agg.gender, ax = ax[1][0])\n",
    "sns.boxplot(y= demo_agg.age,x=demo_agg.gender,ax = ax[1][1])"
   ]
  },
  {
   "cell_type": "code",
   "execution_count": 8,
   "metadata": {},
   "outputs": [
    {
     "data": {
      "text/plain": [
       "F    585\n",
       "M    515\n",
       "Name: gender, dtype: int64"
      ]
     },
     "execution_count": 8,
     "metadata": {},
     "output_type": "execute_result"
    }
   ],
   "source": [
    "demo_agg.gender.value_counts()"
   ]
  },
  {
   "cell_type": "markdown",
   "metadata": {},
   "source": [
    "### Dealing with missing variables"
   ]
  },
  {
   "cell_type": "code",
   "execution_count": null,
   "metadata": {},
   "outputs": [
    {
     "data": {
      "text/plain": [
       "<matplotlib.axes._subplots.AxesSubplot at 0x1a22625a10>"
      ]
     },
     "execution_count": 9,
     "metadata": {},
     "output_type": "execute_result"
    }
   ],
   "source": [
    "a = demo_agg.isnull()\n",
    "msno.matrix(demo_agg)"
   ]
  },
  {
   "cell_type": "code",
   "execution_count": null,
   "metadata": {},
   "outputs": [],
   "source": [
    "#The percentage of missing values to the total is 5% so it is alright to drop it.\n",
    "percentage_of_missing_values=demo_agg.isnull().sum().sum() / demo_agg.shape[0] *100\n",
    "demo_agg.shape[0]\n",
    "f,xa = plt.subplots(figsize=(5,5))\n",
    "plt.pie([demo_agg.shape[0],percentage_of_missing_values], labels=['Total','missing'],explode=(0,0.2),shadow=True)"
   ]
  },
  {
   "cell_type": "code",
   "execution_count": null,
   "metadata": {},
   "outputs": [],
   "source": [
    "#Dropping all of the null values\n",
    "demo_agg=demo_agg.dropna()\n",
    "demo_agg.isnull().sum().sum()"
   ]
  },
  {
   "cell_type": "markdown",
   "metadata": {},
   "source": [
    "### A/B testing"
   ]
  },
  {
   "cell_type": "code",
   "execution_count": null,
   "metadata": {},
   "outputs": [],
   "source": [
    "demo_agg[[\"reg_date\",\"lapse_date\"]].max()\n",
    "current_date = \"2018-03-17\"\n",
    "max_lapse_date = current_date - timedelta(7)\n",
    "max_lapse_date"
   ]
  },
  {
   "cell_type": "code",
   "execution_count": null,
   "metadata": {},
   "outputs": [],
   "source": [
    "customer_subscriptions.subscription_date"
   ]
  },
  {
   "cell_type": "code",
   "execution_count": null,
   "metadata": {},
   "outputs": [],
   "source": [
    "sns.countplot(demo_agg.gender, hue=demo_agg.device)"
   ]
  },
  {
   "cell_type": "code",
   "execution_count": null,
   "metadata": {},
   "outputs": [],
   "source": []
  },
  {
   "cell_type": "code",
   "execution_count": null,
   "metadata": {},
   "outputs": [],
   "source": []
  }
 ],
 "metadata": {
  "kernelspec": {
   "display_name": "Python 3",
   "language": "python",
   "name": "python3"
  },
  "language_info": {
   "codemirror_mode": {
    "name": "ipython",
    "version": 3
   },
   "file_extension": ".py",
   "mimetype": "text/x-python",
   "name": "python",
   "nbconvert_exporter": "python",
   "pygments_lexer": "ipython3",
   "version": "3.7.4"
  }
 },
 "nbformat": 4,
 "nbformat_minor": 2
}
